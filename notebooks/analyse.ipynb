{
 "cells": [
  {
   "cell_type": "markdown",
   "id": "b091c81d",
   "metadata": {},
   "source": [
    "# Analyse Results\n",
    "\n",
    "This notebook contains the detailed analysis for all experiments for this bachelor project. It queries the evaluation data from W&B and displays/ visualises it nicely in `pd.DataFrames` (that are later compiled into LaTeX tables) and figures that are saved to the directory `reports/figures`."
   ]
  },
  {
   "cell_type": "code",
   "execution_count": null,
   "id": "05f6fc36",
   "metadata": {},
   "outputs": [],
   "source": [
    "import wandb\n",
    "import torch\n",
    "import pandas as pd\n",
    "\n",
    "# plotting\n",
    "from matplotlib import pyplot as plt\n",
    "import seaborn as sns"
   ]
  },
  {
   "cell_type": "code",
   "execution_count": null,
   "id": "da7a7792",
   "metadata": {},
   "outputs": [],
   "source": [
    "WANDB_PROJECT = \"mikasenghaas/bsc\""
   ]
  },
  {
   "cell_type": "code",
   "execution_count": null,
   "id": "b9cbce41",
   "metadata": {},
   "outputs": [],
   "source": [
    "# get all runs\n",
    "api = wandb.Api()\n",
    "all_runs = api.runs(WANDB_PROJECT)"
   ]
  },
  {
   "cell_type": "code",
   "execution_count": null,
   "id": "8d8f4171",
   "metadata": {},
   "outputs": [],
   "source": [
    "# helper\n",
    "def render_latex(df):\n",
    "    # capitalise col names\n",
    "    df.columns = [' '.join(map(lambda x: x[0].upper() + x[1:], col.split('_'))) for col in df.columns]\n",
    "    \n",
    "    # format df\n",
    "    s = df.style.highlight_max(props='bfseries: ;')\n",
    "    s.format(precision=2)\n",
    "    \n",
    "    # render latex\n",
    "    opts = {\"hrules\": True, \"position\": \"h\"}\n",
    "    return s.to_latex(**opts)"
   ]
  },
  {
   "cell_type": "markdown",
   "id": "6bab1806",
   "metadata": {},
   "source": [
    "## Experiment 1: Image Classifiers\n",
    "\n",
    "This experiment compares a wide-variety of commonly used image classifies. The classifiers tested are freely available on the PyTorch Hub. The following tables shows an overview over all models"
   ]
  },
  {
   "cell_type": "code",
   "execution_count": null,
   "id": "03f4a3dc",
   "metadata": {},
   "outputs": [],
   "source": [
    "runs = [run for run in all_runs if run.group == \"experiment1\"]\n",
    "\n",
    "print(f\"There are {len(runs)} runs in Experiment 1 ({', '.join([run.name for run in runs])})\")"
   ]
  },
  {
   "cell_type": "markdown",
   "id": "541292af",
   "metadata": {},
   "source": [
    "### Configuration"
   ]
  },
  {
   "cell_type": "code",
   "execution_count": null,
   "id": "082c47d0",
   "metadata": {},
   "outputs": [],
   "source": [
    "# convert wandb config to df\n",
    "config = pd.DataFrame([dict(run.config, **{\"id\": run.name}) for run in runs])\n",
    "\n",
    "# drop unnecessary cols\n",
    "config = config.drop([\"model\", \"version\", \"wandb_name\", \"wandb_log\", \"wandb_tags\", \"all_classes\", \"first_floor\", \"ground_floor\", \"wandb_group\", \"include_classes\"], axis=1)\n",
    "\n",
    "# set index\n",
    "config = config.set_index(\"id\")\n",
    "config"
   ]
  },
  {
   "cell_type": "code",
   "execution_count": null,
   "id": "92b6137b",
   "metadata": {},
   "outputs": [],
   "source": [
    "# render latex\n",
    "training_params = [\"max_epochs\", \"batch_size\", \"lr\", \"gamma\", \"step_size\", \"device\"]\n",
    "data_params = [\"ratio\"]\n",
    "\n",
    "print(render_latex(config[training_params]))"
   ]
  },
  {
   "cell_type": "markdown",
   "id": "bb85f2ef",
   "metadata": {},
   "source": [
    "### Results"
   ]
  },
  {
   "cell_type": "code",
   "execution_count": null,
   "id": "a52b4f56",
   "metadata": {},
   "outputs": [],
   "source": [
    "# convert wandb summary to df\n",
    "summary = pd.DataFrame([dict({k: v for k, v in run.summary.items() if not k.startswith(\"_\")}, **{\"id\": run.name}) for run in runs])\n",
    "\n",
    "# drop unnecessary cols\n",
    "summary = summary.drop([], axis=1)\n",
    "\n",
    "# set index\n",
    "summary = summary.set_index(\"id\")\n",
    "summary"
   ]
  },
  {
   "cell_type": "code",
   "execution_count": null,
   "id": "1280db21",
   "metadata": {},
   "outputs": [],
   "source": [
    "# render latex\n",
    "print(render_latex(summary))"
   ]
  },
  {
   "cell_type": "markdown",
   "id": "cf4db4c0",
   "metadata": {},
   "source": [
    "## Experiment 2\n",
    "\n",
    "This experiment compares different kinds of video classifiers against each other."
   ]
  },
  {
   "cell_type": "code",
   "execution_count": null,
   "id": "0771d1b7",
   "metadata": {},
   "outputs": [],
   "source": [
    "runs = [run for run in all_runs if run.group == \"experiment2\"]\n",
    "\n",
    "print(f\"There are {len(runs)} runs in Experiment 2 ({', '.join([run.name for run in runs])})\")"
   ]
  },
  {
   "cell_type": "markdown",
   "id": "ebca53e4",
   "metadata": {},
   "source": [
    "### Configuration"
   ]
  },
  {
   "cell_type": "code",
   "execution_count": null,
   "id": "2302e3be",
   "metadata": {},
   "outputs": [],
   "source": [
    "# convert wandb config to df\n",
    "config = pd.DataFrame([dict(run.config, **{\"id\": run.name}) for run in runs])\n",
    "\n",
    "# drop unnecessary cols\n",
    "config = config.drop([\"model\", \"version\", \"wandb_name\", \"wandb_log\", \"wandb_tags\", \"all_classes\", \"first_floor\", \"ground_floor\", \"wandb_group\", \"include_classes\"], axis=1)\n",
    "\n",
    "# set index\n",
    "config = config.set_index(\"id\")\n",
    "config"
   ]
  },
  {
   "cell_type": "markdown",
   "id": "67fd0585",
   "metadata": {},
   "source": [
    "### Results"
   ]
  },
  {
   "cell_type": "code",
   "execution_count": null,
   "id": "d4956ab3",
   "metadata": {},
   "outputs": [],
   "source": [
    "# convert wandb summary to df\n",
    "summary = pd.DataFrame([dict({k: v for k, v in run.summary.items() if not k.startswith(\"_\")}, **{\"id\": run.name}) for run in runs])\n",
    "\n",
    "# drop unnecessary cols\n",
    "summary = summary.drop([], axis=1)\n",
    "\n",
    "# set index\n",
    "summary = summary.set_index(\"id\")\n",
    "summary"
   ]
  },
  {
   "cell_type": "code",
   "execution_count": null,
   "id": "ffbb9c83",
   "metadata": {},
   "outputs": [],
   "source": [
    "# render latex\n",
    "print(render_latex(summary))"
   ]
  }
 ],
 "metadata": {
  "kernelspec": {
   "display_name": "Python 3 (ipykernel)",
   "language": "python",
   "name": "python3"
  },
  "language_info": {
   "codemirror_mode": {
    "name": "ipython",
    "version": 3
   },
   "file_extension": ".py",
   "mimetype": "text/x-python",
   "name": "python",
   "nbconvert_exporter": "python",
   "pygments_lexer": "ipython3",
   "version": "3.10.10"
  }
 },
 "nbformat": 4,
 "nbformat_minor": 5
}
